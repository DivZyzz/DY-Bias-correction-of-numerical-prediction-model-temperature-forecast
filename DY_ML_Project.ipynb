{
  "nbformat": 4,
  "nbformat_minor": 0,
  "metadata": {
    "colab": {
      "provenance": []
    },
    "kernelspec": {
      "name": "python3",
      "display_name": "Python 3"
    },
    "language_info": {
      "name": "python"
    }
  },
  "cells": [
    {
      "cell_type": "code",
      "execution_count": 42,
      "metadata": {
        "id": "8eZ1CZLZLF44"
      },
      "outputs": [],
      "source": []
    },
    {
      "cell_type": "code",
      "source": [
        "from google.colab import drive\n",
        "drive.mount('/content/drive')"
      ],
      "metadata": {
        "colab": {
          "base_uri": "https://localhost:8080/"
        },
        "id": "P0n8JnJdUn90",
        "outputId": "bafad0fc-95da-41c4-9cf3-9f10f141020a"
      },
      "execution_count": 43,
      "outputs": [
        {
          "output_type": "stream",
          "name": "stdout",
          "text": [
            "Drive already mounted at /content/drive; to attempt to forcibly remount, call drive.mount(\"/content/drive\", force_remount=True).\n"
          ]
        }
      ]
    },
    {
      "cell_type": "code",
      "source": [
        "import pandas as pd\n",
        "data = pd.read_csv(\"/content/drive/MyDrive/Bias_correction_ucl.csv\")"
      ],
      "metadata": {
        "id": "zO0nnExmVRr4"
      },
      "execution_count": 44,
      "outputs": []
    },
    {
      "cell_type": "code",
      "source": [
        "print (data)"
      ],
      "metadata": {
        "colab": {
          "base_uri": "https://localhost:8080/"
        },
        "id": "7yfM0xNFVntn",
        "outputId": "ce0f66d0-9687-4713-db57-74c7d8ec191a"
      },
      "execution_count": 45,
      "outputs": [
        {
          "output_type": "stream",
          "name": "stdout",
          "text": [
            "      station        Date  Present_Tmax  Present_Tmin  LDAPS_RHmin  \\\n",
            "0         1.0  2013-06-30          28.7          21.4    58.255688   \n",
            "1         2.0  2013-06-30          31.9          21.6    52.263397   \n",
            "2         3.0  2013-06-30          31.6          23.3    48.690479   \n",
            "3         4.0  2013-06-30          32.0          23.4    58.239788   \n",
            "4         5.0  2013-06-30          31.4          21.9    56.174095   \n",
            "...       ...         ...           ...           ...          ...   \n",
            "7747     23.0  2017-08-30          23.3          17.1    26.741310   \n",
            "7748     24.0  2017-08-30          23.3          17.7    24.040634   \n",
            "7749     25.0  2017-08-30          23.2          17.4    22.933014   \n",
            "7750      NaN         NaN          20.0          11.3    19.794666   \n",
            "7751      NaN         NaN          37.6          29.9    98.524734   \n",
            "\n",
            "      LDAPS_RHmax  LDAPS_Tmax_lapse  LDAPS_Tmin_lapse   LDAPS_WS    LDAPS_LH  \\\n",
            "0       91.116364         28.074101         23.006936   6.818887   69.451805   \n",
            "1       90.604721         29.850689         24.035009   5.691890   51.937448   \n",
            "2       83.973587         30.091292         24.565633   6.138224   20.573050   \n",
            "3       96.483688         29.704629         23.326177   5.650050   65.727144   \n",
            "4       90.155128         29.113934         23.486480   5.735004  107.965535   \n",
            "...           ...               ...               ...        ...         ...   \n",
            "7747    78.869858         26.352081         18.775678   6.148918   72.058294   \n",
            "7748    77.294975         27.010193         18.733519   6.542819   47.241457   \n",
            "7749    77.243744         27.939516         18.522965   7.289264    9.090034   \n",
            "7750    58.936283         17.624954         14.272646   2.882580  -13.603212   \n",
            "7751   100.000153         38.542255         29.619342  21.857621  213.414006   \n",
            "\n",
            "      ...  LDAPS_PPT2  LDAPS_PPT3  LDAPS_PPT4      lat      lon       DEM  \\\n",
            "0     ...    0.000000    0.000000    0.000000  37.6046  126.991  212.3350   \n",
            "1     ...    0.000000    0.000000    0.000000  37.6046  127.032   44.7624   \n",
            "2     ...    0.000000    0.000000    0.000000  37.5776  127.058   33.3068   \n",
            "3     ...    0.000000    0.000000    0.000000  37.6450  127.022   45.7160   \n",
            "4     ...    0.000000    0.000000    0.000000  37.5507  127.135   35.0380   \n",
            "...   ...         ...         ...         ...      ...      ...       ...   \n",
            "7747  ...    0.000000    0.000000    0.000000  37.5372  126.891   15.5876   \n",
            "7748  ...    0.000000    0.000000    0.000000  37.5237  126.909   17.2956   \n",
            "7749  ...    0.000000    0.000000    0.000000  37.5237  126.970   19.5844   \n",
            "7750  ...    0.000000    0.000000    0.000000  37.4562  126.826   12.3700   \n",
            "7751  ...   21.621661   15.841235   16.655469  37.6450  127.135  212.3350   \n",
            "\n",
            "         Slope  Solar radiation  Next_Tmax  Next_Tmin  \n",
            "0     2.785000      5992.895996       29.1       21.2  \n",
            "1     0.514100      5869.312500       30.5       22.5  \n",
            "2     0.266100      5863.555664       31.1       23.9  \n",
            "3     2.534800      5856.964844       31.7       24.3  \n",
            "4     0.505500      5859.552246       31.2       22.5  \n",
            "...        ...              ...        ...        ...  \n",
            "7747  0.155400      4443.313965       28.3       18.1  \n",
            "7748  0.222300      4438.373535       28.6       18.8  \n",
            "7749  0.271300      4451.345215       27.8       17.4  \n",
            "7750  0.098475      4329.520508       17.4       11.3  \n",
            "7751  5.178230      5992.895996       38.9       29.8  \n",
            "\n",
            "[7752 rows x 25 columns]\n"
          ]
        }
      ]
    },
    {
      "cell_type": "code",
      "source": [
        "data.head()"
      ],
      "metadata": {
        "colab": {
          "base_uri": "https://localhost:8080/",
          "height": 404
        },
        "id": "eJPnMcrRV1On",
        "outputId": "a6815f5b-c2a5-439e-9d98-e99066ac299d"
      },
      "execution_count": 46,
      "outputs": [
        {
          "output_type": "execute_result",
          "data": {
            "text/plain": [
              "   station        Date  Present_Tmax  Present_Tmin  LDAPS_RHmin  LDAPS_RHmax  \\\n",
              "0      1.0  2013-06-30          28.7          21.4    58.255688    91.116364   \n",
              "1      2.0  2013-06-30          31.9          21.6    52.263397    90.604721   \n",
              "2      3.0  2013-06-30          31.6          23.3    48.690479    83.973587   \n",
              "3      4.0  2013-06-30          32.0          23.4    58.239788    96.483688   \n",
              "4      5.0  2013-06-30          31.4          21.9    56.174095    90.155128   \n",
              "\n",
              "   LDAPS_Tmax_lapse  LDAPS_Tmin_lapse  LDAPS_WS    LDAPS_LH  ...  LDAPS_PPT2  \\\n",
              "0         28.074101         23.006936  6.818887   69.451805  ...         0.0   \n",
              "1         29.850689         24.035009  5.691890   51.937448  ...         0.0   \n",
              "2         30.091292         24.565633  6.138224   20.573050  ...         0.0   \n",
              "3         29.704629         23.326177  5.650050   65.727144  ...         0.0   \n",
              "4         29.113934         23.486480  5.735004  107.965535  ...         0.0   \n",
              "\n",
              "   LDAPS_PPT3  LDAPS_PPT4      lat      lon       DEM   Slope  \\\n",
              "0         0.0         0.0  37.6046  126.991  212.3350  2.7850   \n",
              "1         0.0         0.0  37.6046  127.032   44.7624  0.5141   \n",
              "2         0.0         0.0  37.5776  127.058   33.3068  0.2661   \n",
              "3         0.0         0.0  37.6450  127.022   45.7160  2.5348   \n",
              "4         0.0         0.0  37.5507  127.135   35.0380  0.5055   \n",
              "\n",
              "   Solar radiation  Next_Tmax  Next_Tmin  \n",
              "0      5992.895996       29.1       21.2  \n",
              "1      5869.312500       30.5       22.5  \n",
              "2      5863.555664       31.1       23.9  \n",
              "3      5856.964844       31.7       24.3  \n",
              "4      5859.552246       31.2       22.5  \n",
              "\n",
              "[5 rows x 25 columns]"
            ],
            "text/html": [
              "\n",
              "  <div id=\"df-658b65eb-ec52-4fcc-b08e-26783515c6db\">\n",
              "    <div class=\"colab-df-container\">\n",
              "      <div>\n",
              "<style scoped>\n",
              "    .dataframe tbody tr th:only-of-type {\n",
              "        vertical-align: middle;\n",
              "    }\n",
              "\n",
              "    .dataframe tbody tr th {\n",
              "        vertical-align: top;\n",
              "    }\n",
              "\n",
              "    .dataframe thead th {\n",
              "        text-align: right;\n",
              "    }\n",
              "</style>\n",
              "<table border=\"1\" class=\"dataframe\">\n",
              "  <thead>\n",
              "    <tr style=\"text-align: right;\">\n",
              "      <th></th>\n",
              "      <th>station</th>\n",
              "      <th>Date</th>\n",
              "      <th>Present_Tmax</th>\n",
              "      <th>Present_Tmin</th>\n",
              "      <th>LDAPS_RHmin</th>\n",
              "      <th>LDAPS_RHmax</th>\n",
              "      <th>LDAPS_Tmax_lapse</th>\n",
              "      <th>LDAPS_Tmin_lapse</th>\n",
              "      <th>LDAPS_WS</th>\n",
              "      <th>LDAPS_LH</th>\n",
              "      <th>...</th>\n",
              "      <th>LDAPS_PPT2</th>\n",
              "      <th>LDAPS_PPT3</th>\n",
              "      <th>LDAPS_PPT4</th>\n",
              "      <th>lat</th>\n",
              "      <th>lon</th>\n",
              "      <th>DEM</th>\n",
              "      <th>Slope</th>\n",
              "      <th>Solar radiation</th>\n",
              "      <th>Next_Tmax</th>\n",
              "      <th>Next_Tmin</th>\n",
              "    </tr>\n",
              "  </thead>\n",
              "  <tbody>\n",
              "    <tr>\n",
              "      <th>0</th>\n",
              "      <td>1.0</td>\n",
              "      <td>2013-06-30</td>\n",
              "      <td>28.7</td>\n",
              "      <td>21.4</td>\n",
              "      <td>58.255688</td>\n",
              "      <td>91.116364</td>\n",
              "      <td>28.074101</td>\n",
              "      <td>23.006936</td>\n",
              "      <td>6.818887</td>\n",
              "      <td>69.451805</td>\n",
              "      <td>...</td>\n",
              "      <td>0.0</td>\n",
              "      <td>0.0</td>\n",
              "      <td>0.0</td>\n",
              "      <td>37.6046</td>\n",
              "      <td>126.991</td>\n",
              "      <td>212.3350</td>\n",
              "      <td>2.7850</td>\n",
              "      <td>5992.895996</td>\n",
              "      <td>29.1</td>\n",
              "      <td>21.2</td>\n",
              "    </tr>\n",
              "    <tr>\n",
              "      <th>1</th>\n",
              "      <td>2.0</td>\n",
              "      <td>2013-06-30</td>\n",
              "      <td>31.9</td>\n",
              "      <td>21.6</td>\n",
              "      <td>52.263397</td>\n",
              "      <td>90.604721</td>\n",
              "      <td>29.850689</td>\n",
              "      <td>24.035009</td>\n",
              "      <td>5.691890</td>\n",
              "      <td>51.937448</td>\n",
              "      <td>...</td>\n",
              "      <td>0.0</td>\n",
              "      <td>0.0</td>\n",
              "      <td>0.0</td>\n",
              "      <td>37.6046</td>\n",
              "      <td>127.032</td>\n",
              "      <td>44.7624</td>\n",
              "      <td>0.5141</td>\n",
              "      <td>5869.312500</td>\n",
              "      <td>30.5</td>\n",
              "      <td>22.5</td>\n",
              "    </tr>\n",
              "    <tr>\n",
              "      <th>2</th>\n",
              "      <td>3.0</td>\n",
              "      <td>2013-06-30</td>\n",
              "      <td>31.6</td>\n",
              "      <td>23.3</td>\n",
              "      <td>48.690479</td>\n",
              "      <td>83.973587</td>\n",
              "      <td>30.091292</td>\n",
              "      <td>24.565633</td>\n",
              "      <td>6.138224</td>\n",
              "      <td>20.573050</td>\n",
              "      <td>...</td>\n",
              "      <td>0.0</td>\n",
              "      <td>0.0</td>\n",
              "      <td>0.0</td>\n",
              "      <td>37.5776</td>\n",
              "      <td>127.058</td>\n",
              "      <td>33.3068</td>\n",
              "      <td>0.2661</td>\n",
              "      <td>5863.555664</td>\n",
              "      <td>31.1</td>\n",
              "      <td>23.9</td>\n",
              "    </tr>\n",
              "    <tr>\n",
              "      <th>3</th>\n",
              "      <td>4.0</td>\n",
              "      <td>2013-06-30</td>\n",
              "      <td>32.0</td>\n",
              "      <td>23.4</td>\n",
              "      <td>58.239788</td>\n",
              "      <td>96.483688</td>\n",
              "      <td>29.704629</td>\n",
              "      <td>23.326177</td>\n",
              "      <td>5.650050</td>\n",
              "      <td>65.727144</td>\n",
              "      <td>...</td>\n",
              "      <td>0.0</td>\n",
              "      <td>0.0</td>\n",
              "      <td>0.0</td>\n",
              "      <td>37.6450</td>\n",
              "      <td>127.022</td>\n",
              "      <td>45.7160</td>\n",
              "      <td>2.5348</td>\n",
              "      <td>5856.964844</td>\n",
              "      <td>31.7</td>\n",
              "      <td>24.3</td>\n",
              "    </tr>\n",
              "    <tr>\n",
              "      <th>4</th>\n",
              "      <td>5.0</td>\n",
              "      <td>2013-06-30</td>\n",
              "      <td>31.4</td>\n",
              "      <td>21.9</td>\n",
              "      <td>56.174095</td>\n",
              "      <td>90.155128</td>\n",
              "      <td>29.113934</td>\n",
              "      <td>23.486480</td>\n",
              "      <td>5.735004</td>\n",
              "      <td>107.965535</td>\n",
              "      <td>...</td>\n",
              "      <td>0.0</td>\n",
              "      <td>0.0</td>\n",
              "      <td>0.0</td>\n",
              "      <td>37.5507</td>\n",
              "      <td>127.135</td>\n",
              "      <td>35.0380</td>\n",
              "      <td>0.5055</td>\n",
              "      <td>5859.552246</td>\n",
              "      <td>31.2</td>\n",
              "      <td>22.5</td>\n",
              "    </tr>\n",
              "  </tbody>\n",
              "</table>\n",
              "<p>5 rows × 25 columns</p>\n",
              "</div>\n",
              "      <button class=\"colab-df-convert\" onclick=\"convertToInteractive('df-658b65eb-ec52-4fcc-b08e-26783515c6db')\"\n",
              "              title=\"Convert this dataframe to an interactive table.\"\n",
              "              style=\"display:none;\">\n",
              "        \n",
              "  <svg xmlns=\"http://www.w3.org/2000/svg\" height=\"24px\"viewBox=\"0 0 24 24\"\n",
              "       width=\"24px\">\n",
              "    <path d=\"M0 0h24v24H0V0z\" fill=\"none\"/>\n",
              "    <path d=\"M18.56 5.44l.94 2.06.94-2.06 2.06-.94-2.06-.94-.94-2.06-.94 2.06-2.06.94zm-11 1L8.5 8.5l.94-2.06 2.06-.94-2.06-.94L8.5 2.5l-.94 2.06-2.06.94zm10 10l.94 2.06.94-2.06 2.06-.94-2.06-.94-.94-2.06-.94 2.06-2.06.94z\"/><path d=\"M17.41 7.96l-1.37-1.37c-.4-.4-.92-.59-1.43-.59-.52 0-1.04.2-1.43.59L10.3 9.45l-7.72 7.72c-.78.78-.78 2.05 0 2.83L4 21.41c.39.39.9.59 1.41.59.51 0 1.02-.2 1.41-.59l7.78-7.78 2.81-2.81c.8-.78.8-2.07 0-2.86zM5.41 20L4 18.59l7.72-7.72 1.47 1.35L5.41 20z\"/>\n",
              "  </svg>\n",
              "      </button>\n",
              "      \n",
              "  <style>\n",
              "    .colab-df-container {\n",
              "      display:flex;\n",
              "      flex-wrap:wrap;\n",
              "      gap: 12px;\n",
              "    }\n",
              "\n",
              "    .colab-df-convert {\n",
              "      background-color: #E8F0FE;\n",
              "      border: none;\n",
              "      border-radius: 50%;\n",
              "      cursor: pointer;\n",
              "      display: none;\n",
              "      fill: #1967D2;\n",
              "      height: 32px;\n",
              "      padding: 0 0 0 0;\n",
              "      width: 32px;\n",
              "    }\n",
              "\n",
              "    .colab-df-convert:hover {\n",
              "      background-color: #E2EBFA;\n",
              "      box-shadow: 0px 1px 2px rgba(60, 64, 67, 0.3), 0px 1px 3px 1px rgba(60, 64, 67, 0.15);\n",
              "      fill: #174EA6;\n",
              "    }\n",
              "\n",
              "    [theme=dark] .colab-df-convert {\n",
              "      background-color: #3B4455;\n",
              "      fill: #D2E3FC;\n",
              "    }\n",
              "\n",
              "    [theme=dark] .colab-df-convert:hover {\n",
              "      background-color: #434B5C;\n",
              "      box-shadow: 0px 1px 3px 1px rgba(0, 0, 0, 0.15);\n",
              "      filter: drop-shadow(0px 1px 2px rgba(0, 0, 0, 0.3));\n",
              "      fill: #FFFFFF;\n",
              "    }\n",
              "  </style>\n",
              "\n",
              "      <script>\n",
              "        const buttonEl =\n",
              "          document.querySelector('#df-658b65eb-ec52-4fcc-b08e-26783515c6db button.colab-df-convert');\n",
              "        buttonEl.style.display =\n",
              "          google.colab.kernel.accessAllowed ? 'block' : 'none';\n",
              "\n",
              "        async function convertToInteractive(key) {\n",
              "          const element = document.querySelector('#df-658b65eb-ec52-4fcc-b08e-26783515c6db');\n",
              "          const dataTable =\n",
              "            await google.colab.kernel.invokeFunction('convertToInteractive',\n",
              "                                                     [key], {});\n",
              "          if (!dataTable) return;\n",
              "\n",
              "          const docLinkHtml = 'Like what you see? Visit the ' +\n",
              "            '<a target=\"_blank\" href=https://colab.research.google.com/notebooks/data_table.ipynb>data table notebook</a>'\n",
              "            + ' to learn more about interactive tables.';\n",
              "          element.innerHTML = '';\n",
              "          dataTable['output_type'] = 'display_data';\n",
              "          await google.colab.output.renderOutput(dataTable, element);\n",
              "          const docLink = document.createElement('div');\n",
              "          docLink.innerHTML = docLinkHtml;\n",
              "          element.appendChild(docLink);\n",
              "        }\n",
              "      </script>\n",
              "    </div>\n",
              "  </div>\n",
              "  "
            ]
          },
          "metadata": {},
          "execution_count": 46
        }
      ]
    },
    {
      "cell_type": "code",
      "source": [
        "data.size"
      ],
      "metadata": {
        "colab": {
          "base_uri": "https://localhost:8080/"
        },
        "id": "JMEcA2UdWIN0",
        "outputId": "783121a1-07f7-4cab-a5ef-8e51b74f3ae9"
      },
      "execution_count": 47,
      "outputs": [
        {
          "output_type": "execute_result",
          "data": {
            "text/plain": [
              "193800"
            ]
          },
          "metadata": {},
          "execution_count": 47
        }
      ]
    },
    {
      "cell_type": "code",
      "source": [
        "data.shape"
      ],
      "metadata": {
        "colab": {
          "base_uri": "https://localhost:8080/"
        },
        "id": "d0gqyJFVWS8d",
        "outputId": "a2f85998-18c9-4a92-d905-e7e5e9633cfb"
      },
      "execution_count": 48,
      "outputs": [
        {
          "output_type": "execute_result",
          "data": {
            "text/plain": [
              "(7752, 25)"
            ]
          },
          "metadata": {},
          "execution_count": 48
        }
      ]
    },
    {
      "cell_type": "code",
      "source": [
        "data.values"
      ],
      "metadata": {
        "colab": {
          "base_uri": "https://localhost:8080/"
        },
        "id": "u_Q5W6Q9WVLo",
        "outputId": "759c4001-3554-45d4-e8d4-4410b6a8d391"
      },
      "execution_count": 49,
      "outputs": [
        {
          "output_type": "execute_result",
          "data": {
            "text/plain": [
              "array([[1.0, '2013-06-30', 28.7, ..., 5992.895996, 29.1, 21.2],\n",
              "       [2.0, '2013-06-30', 31.9, ..., 5869.3125, 30.5, 22.5],\n",
              "       [3.0, '2013-06-30', 31.6, ..., 5863.555664, 31.1, 23.9],\n",
              "       ...,\n",
              "       [25.0, '2017-08-30', 23.2, ..., 4451.345215, 27.8, 17.4],\n",
              "       [nan, nan, 20.0, ..., 4329.520508, 17.4, 11.3],\n",
              "       [nan, nan, 37.6, ..., 5992.895996, 38.9, 29.8]], dtype=object)"
            ]
          },
          "metadata": {},
          "execution_count": 49
        }
      ]
    },
    {
      "cell_type": "code",
      "source": [
        "data.info()"
      ],
      "metadata": {
        "colab": {
          "base_uri": "https://localhost:8080/"
        },
        "id": "bGU-ePnwWXIx",
        "outputId": "e1f3d926-f789-4b83-c424-cb70a3338ff0"
      },
      "execution_count": 50,
      "outputs": [
        {
          "output_type": "stream",
          "name": "stdout",
          "text": [
            "<class 'pandas.core.frame.DataFrame'>\n",
            "RangeIndex: 7752 entries, 0 to 7751\n",
            "Data columns (total 25 columns):\n",
            " #   Column            Non-Null Count  Dtype  \n",
            "---  ------            --------------  -----  \n",
            " 0   station           7750 non-null   float64\n",
            " 1   Date              7750 non-null   object \n",
            " 2   Present_Tmax      7682 non-null   float64\n",
            " 3   Present_Tmin      7682 non-null   float64\n",
            " 4   LDAPS_RHmin       7677 non-null   float64\n",
            " 5   LDAPS_RHmax       7677 non-null   float64\n",
            " 6   LDAPS_Tmax_lapse  7677 non-null   float64\n",
            " 7   LDAPS_Tmin_lapse  7677 non-null   float64\n",
            " 8   LDAPS_WS          7677 non-null   float64\n",
            " 9   LDAPS_LH          7677 non-null   float64\n",
            " 10  LDAPS_CC1         7677 non-null   float64\n",
            " 11  LDAPS_CC2         7677 non-null   float64\n",
            " 12  LDAPS_CC3         7677 non-null   float64\n",
            " 13  LDAPS_CC4         7677 non-null   float64\n",
            " 14  LDAPS_PPT1        7677 non-null   float64\n",
            " 15  LDAPS_PPT2        7677 non-null   float64\n",
            " 16  LDAPS_PPT3        7677 non-null   float64\n",
            " 17  LDAPS_PPT4        7677 non-null   float64\n",
            " 18  lat               7752 non-null   float64\n",
            " 19  lon               7752 non-null   float64\n",
            " 20  DEM               7752 non-null   float64\n",
            " 21  Slope             7752 non-null   float64\n",
            " 22  Solar radiation   7752 non-null   float64\n",
            " 23  Next_Tmax         7725 non-null   float64\n",
            " 24  Next_Tmin         7725 non-null   float64\n",
            "dtypes: float64(24), object(1)\n",
            "memory usage: 1.5+ MB\n"
          ]
        }
      ]
    },
    {
      "cell_type": "code",
      "source": [
        "data.isnull().sum()"
      ],
      "metadata": {
        "colab": {
          "base_uri": "https://localhost:8080/"
        },
        "id": "y2QZASpBWZxv",
        "outputId": "85249c30-7339-4222-caa8-c5321f8590ee"
      },
      "execution_count": 51,
      "outputs": [
        {
          "output_type": "execute_result",
          "data": {
            "text/plain": [
              "station              2\n",
              "Date                 2\n",
              "Present_Tmax        70\n",
              "Present_Tmin        70\n",
              "LDAPS_RHmin         75\n",
              "LDAPS_RHmax         75\n",
              "LDAPS_Tmax_lapse    75\n",
              "LDAPS_Tmin_lapse    75\n",
              "LDAPS_WS            75\n",
              "LDAPS_LH            75\n",
              "LDAPS_CC1           75\n",
              "LDAPS_CC2           75\n",
              "LDAPS_CC3           75\n",
              "LDAPS_CC4           75\n",
              "LDAPS_PPT1          75\n",
              "LDAPS_PPT2          75\n",
              "LDAPS_PPT3          75\n",
              "LDAPS_PPT4          75\n",
              "lat                  0\n",
              "lon                  0\n",
              "DEM                  0\n",
              "Slope                0\n",
              "Solar radiation      0\n",
              "Next_Tmax           27\n",
              "Next_Tmin           27\n",
              "dtype: int64"
            ]
          },
          "metadata": {},
          "execution_count": 51
        }
      ]
    },
    {
      "cell_type": "code",
      "source": [
        "data = data.dropna()"
      ],
      "metadata": {
        "id": "qCnTZDTUWcHg"
      },
      "execution_count": 52,
      "outputs": []
    },
    {
      "cell_type": "code",
      "source": [
        "data.isna().sum()"
      ],
      "metadata": {
        "colab": {
          "base_uri": "https://localhost:8080/"
        },
        "id": "FqbQe9GRWfHV",
        "outputId": "91ddbdbd-6e78-4c7c-bd1f-59d58fcb68ab"
      },
      "execution_count": 53,
      "outputs": [
        {
          "output_type": "execute_result",
          "data": {
            "text/plain": [
              "station             0\n",
              "Date                0\n",
              "Present_Tmax        0\n",
              "Present_Tmin        0\n",
              "LDAPS_RHmin         0\n",
              "LDAPS_RHmax         0\n",
              "LDAPS_Tmax_lapse    0\n",
              "LDAPS_Tmin_lapse    0\n",
              "LDAPS_WS            0\n",
              "LDAPS_LH            0\n",
              "LDAPS_CC1           0\n",
              "LDAPS_CC2           0\n",
              "LDAPS_CC3           0\n",
              "LDAPS_CC4           0\n",
              "LDAPS_PPT1          0\n",
              "LDAPS_PPT2          0\n",
              "LDAPS_PPT3          0\n",
              "LDAPS_PPT4          0\n",
              "lat                 0\n",
              "lon                 0\n",
              "DEM                 0\n",
              "Slope               0\n",
              "Solar radiation     0\n",
              "Next_Tmax           0\n",
              "Next_Tmin           0\n",
              "dtype: int64"
            ]
          },
          "metadata": {},
          "execution_count": 53
        }
      ]
    },
    {
      "cell_type": "code",
      "source": [
        "def utils_recognize_type(data, col, max_cat=20):\n",
        "    if (data[col].dtype == \"O\") | (data[col].nunique() < max_cat):\n",
        "        return \"cat\"\n",
        "    else:\n",
        "        return \"num\"\n",
        "\n",
        "#heatmap of variables\n",
        "dic_cols = {col:utils_recognize_type(data, col, max_cat=20) for col in data.columns}\n",
        "print(dic_cols)"
      ],
      "metadata": {
        "colab": {
          "base_uri": "https://localhost:8080/"
        },
        "id": "98Ix-PjyWhin",
        "outputId": "edf53325-2c2a-44f9-f1c3-2c441bd68fd3"
      },
      "execution_count": 54,
      "outputs": [
        {
          "output_type": "stream",
          "name": "stdout",
          "text": [
            "{'station': 'num', 'Date': 'cat', 'Present_Tmax': 'num', 'Present_Tmin': 'num', 'LDAPS_RHmin': 'num', 'LDAPS_RHmax': 'num', 'LDAPS_Tmax_lapse': 'num', 'LDAPS_Tmin_lapse': 'num', 'LDAPS_WS': 'num', 'LDAPS_LH': 'num', 'LDAPS_CC1': 'num', 'LDAPS_CC2': 'num', 'LDAPS_CC3': 'num', 'LDAPS_CC4': 'num', 'LDAPS_PPT1': 'num', 'LDAPS_PPT2': 'num', 'LDAPS_PPT3': 'num', 'LDAPS_PPT4': 'num', 'lat': 'cat', 'lon': 'num', 'DEM': 'num', 'Slope': 'num', 'Solar radiation': 'num', 'Next_Tmax': 'num', 'Next_Tmin': 'num'}\n"
          ]
        }
      ]
    },
    {
      "cell_type": "code",
      "source": [
        "for x in data.columns:\n",
        "    print(x)\n",
        "    if(dic_cols[x]=='num'):\n",
        "        print(\"Mean =\"+ str(data[x].mean()))\n",
        "        print(\"Variance =\"+ str(data[x].var()))\n",
        "        print(\"Standard Deviation =\"+ str(data[x].std()))\n",
        "   "
      ],
      "metadata": {
        "colab": {
          "base_uri": "https://localhost:8080/"
        },
        "id": "XbpH6fNrWk-X",
        "outputId": "947d8612-7b83-4ddb-f3dd-61abd1e88e02"
      },
      "execution_count": 55,
      "outputs": [
        {
          "output_type": "stream",
          "name": "stdout",
          "text": [
            "station\n",
            "Mean =13.014101212440696\n",
            "Variance =52.097468191679035\n",
            "Standard Deviation =7.21785759014952\n",
            "Date\n",
            "Present_Tmax\n",
            "Mean =29.748365840801263\n",
            "Variance =8.805465893821793\n",
            "Standard Deviation =2.967400528041638\n",
            "Present_Tmin\n",
            "Mean =23.195809172377437\n",
            "Variance =5.7642239003139055\n",
            "Standard Deviation =2.4008798179654693\n",
            "LDAPS_RHmin\n",
            "Mean =56.72496867696231\n",
            "Variance =213.93622562016228\n",
            "Standard Deviation =14.626558912477066\n",
            "LDAPS_RHmax\n",
            "Mean =88.3608233703677\n",
            "Variance =51.83217126898235\n",
            "Standard Deviation =7.199456317596653\n",
            "LDAPS_Tmax_lapse\n",
            "Mean =29.62012769006853\n",
            "Variance =8.664169071295314\n",
            "Standard Deviation =2.9434960627280127\n",
            "LDAPS_Tmin_lapse\n",
            "Mean =23.511786156327094\n",
            "Variance =5.4876757717401885\n",
            "Standard Deviation =2.342578872042559\n",
            "LDAPS_WS\n",
            "Mean =7.0940966991598575\n",
            "Variance =4.739475836556816\n",
            "Standard Deviation =2.1770337242580364\n",
            "LDAPS_LH\n",
            "Mean =62.492606287988\n",
            "Variance =1134.7572284153769\n",
            "Standard Deviation =33.686157816162066\n",
            "LDAPS_CC1\n",
            "Mean =0.36851020603927254\n",
            "Variance =0.06878020433610073\n",
            "Standard Deviation =0.2622598031267863\n",
            "LDAPS_CC2\n",
            "Mean =0.3555275409410912\n",
            "Variance =0.06652357945466889\n",
            "Standard Deviation =0.2579216537142023\n",
            "LDAPS_CC3\n",
            "Mean =0.3175460089503163\n",
            "Variance =0.062416540380235364\n",
            "Standard Deviation =0.24983302499916893\n",
            "LDAPS_CC4\n",
            "Mean =0.2982675804466131\n",
            "Variance =0.06420755155888219\n",
            "Standard Deviation =0.25339209056101614\n",
            "LDAPS_PPT1\n",
            "Mean =0.5890079784346336\n",
            "Variance =3.7155518777731116\n",
            "Standard Deviation =1.927576685315817\n",
            "LDAPS_PPT2\n",
            "Mean =0.4807383624951239\n",
            "Variance =3.039189789713058\n",
            "Standard Deviation =1.7433272181988837\n",
            "LDAPS_PPT3\n",
            "Mean =0.2750067244948603\n",
            "Variance =1.313514786501373\n",
            "Standard Deviation =1.1460867273035549\n",
            "LDAPS_PPT4\n",
            "Mean =0.265372529469689\n",
            "Variance =1.3916002578700037\n",
            "Standard Deviation =1.179661077543039\n",
            "lat\n",
            "lon\n",
            "Mean =126.99142000527148\n",
            "Variance =0.006275764919362212\n",
            "Standard Deviation =0.07921972556984916\n",
            "DEM\n",
            "Mean =61.918136478650496\n",
            "Variance =2951.0458032756906\n",
            "Standard Deviation =54.32352900241009\n",
            "Slope\n",
            "Mean =1.2597548892988932\n",
            "Variance =1.8844378179897996\n",
            "Standard Deviation =1.3727482718946689\n",
            "Solar radiation\n",
            "Mean =5343.724207856747\n",
            "Variance =184713.0501395297\n",
            "Standard Deviation =429.78256146513166\n",
            "Next_Tmax\n",
            "Mean =30.24152609383237\n",
            "Variance =9.68334323551251\n",
            "Standard Deviation =3.111807069134028\n",
            "Next_Tmin\n",
            "Mean =22.910819715340008\n",
            "Variance =6.161592421427519\n",
            "Standard Deviation =2.4822555109068687\n"
          ]
        }
      ]
    },
    {
      "cell_type": "code",
      "source": [
        "data.drop(columns=[\n",
        "    'lat','Slope',              \n",
        "'LDAPS_PPT1',         \n",
        "'DEM',                \n",
        "'LDAPS_PPT2',         \n",
        "'LDAPS_PPT4',         \n",
        "'LDAPS_PPT3',         \n",
        "'LDAPS_RHmax',        \n",
        "'LDAPS_WS',           \n",
        "'LDAPS_RHmin',        \n",
        "'LDAPS_CC4',          \n",
        "'LDAPS_CC1',          \n",
        "'LDAPS_CC2',          \n",
        "'LDAPS_CC3',\n",
        "'LDAPS_PPT2',        \n",
        "'LDAPS_CC1',          \n",
        "'lon',                \n",
        "'LDAPS_CC3',          \n",
        "'LDAPS_LH',           \n",
        "'LDAPS_PPT3',         \n",
        "'LDAPS_RHmax',       \n",
        "'lat',                \n",
        "'LDAPS_CC4',          \n",
        "'LDAPS_WS',           \n",
        "'LDAPS_PPT4',         \n",
        "'Slope',              \n",
        "'DEM',\n",
        "'Date',               \n",
        "],inplace=True)"
      ],
      "metadata": {
        "colab": {
          "base_uri": "https://localhost:8080/"
        },
        "id": "lmEQmTh_cL3g",
        "outputId": "01bb0775-ec9f-4974-bbaf-f75aabb42fdb"
      },
      "execution_count": 56,
      "outputs": [
        {
          "output_type": "stream",
          "name": "stderr",
          "text": [
            "<ipython-input-56-6c056cd69209>:1: SettingWithCopyWarning: \n",
            "A value is trying to be set on a copy of a slice from a DataFrame\n",
            "\n",
            "See the caveats in the documentation: https://pandas.pydata.org/pandas-docs/stable/user_guide/indexing.html#returning-a-view-versus-a-copy\n",
            "  data.drop(columns=[\n"
          ]
        }
      ]
    },
    {
      "cell_type": "code",
      "source": [
        "data.head()"
      ],
      "metadata": {
        "colab": {
          "base_uri": "https://localhost:8080/",
          "height": 206
        },
        "id": "e2Igl0lJfTk3",
        "outputId": "2c34e9d9-5daa-4e6b-d8a4-a27bb2744e31"
      },
      "execution_count": 81,
      "outputs": [
        {
          "output_type": "execute_result",
          "data": {
            "text/plain": [
              "   station  Present_Tmax  Present_Tmin  LDAPS_Tmax_lapse  LDAPS_Tmin_lapse  \\\n",
              "0      1.0          28.7          21.4         28.074101         23.006936   \n",
              "1      2.0          31.9          21.6         29.850689         24.035009   \n",
              "2      3.0          31.6          23.3         30.091292         24.565633   \n",
              "3      4.0          32.0          23.4         29.704629         23.326177   \n",
              "4      5.0          31.4          21.9         29.113934         23.486480   \n",
              "\n",
              "   Solar radiation  Next_Tmax  Next_Tmin  \n",
              "0      5992.895996       29.1       21.2  \n",
              "1      5869.312500       30.5       22.5  \n",
              "2      5863.555664       31.1       23.9  \n",
              "3      5856.964844       31.7       24.3  \n",
              "4      5859.552246       31.2       22.5  "
            ],
            "text/html": [
              "\n",
              "  <div id=\"df-cbf27bdd-7053-4ec1-8996-c679481ac81c\">\n",
              "    <div class=\"colab-df-container\">\n",
              "      <div>\n",
              "<style scoped>\n",
              "    .dataframe tbody tr th:only-of-type {\n",
              "        vertical-align: middle;\n",
              "    }\n",
              "\n",
              "    .dataframe tbody tr th {\n",
              "        vertical-align: top;\n",
              "    }\n",
              "\n",
              "    .dataframe thead th {\n",
              "        text-align: right;\n",
              "    }\n",
              "</style>\n",
              "<table border=\"1\" class=\"dataframe\">\n",
              "  <thead>\n",
              "    <tr style=\"text-align: right;\">\n",
              "      <th></th>\n",
              "      <th>station</th>\n",
              "      <th>Present_Tmax</th>\n",
              "      <th>Present_Tmin</th>\n",
              "      <th>LDAPS_Tmax_lapse</th>\n",
              "      <th>LDAPS_Tmin_lapse</th>\n",
              "      <th>Solar radiation</th>\n",
              "      <th>Next_Tmax</th>\n",
              "      <th>Next_Tmin</th>\n",
              "    </tr>\n",
              "  </thead>\n",
              "  <tbody>\n",
              "    <tr>\n",
              "      <th>0</th>\n",
              "      <td>1.0</td>\n",
              "      <td>28.7</td>\n",
              "      <td>21.4</td>\n",
              "      <td>28.074101</td>\n",
              "      <td>23.006936</td>\n",
              "      <td>5992.895996</td>\n",
              "      <td>29.1</td>\n",
              "      <td>21.2</td>\n",
              "    </tr>\n",
              "    <tr>\n",
              "      <th>1</th>\n",
              "      <td>2.0</td>\n",
              "      <td>31.9</td>\n",
              "      <td>21.6</td>\n",
              "      <td>29.850689</td>\n",
              "      <td>24.035009</td>\n",
              "      <td>5869.312500</td>\n",
              "      <td>30.5</td>\n",
              "      <td>22.5</td>\n",
              "    </tr>\n",
              "    <tr>\n",
              "      <th>2</th>\n",
              "      <td>3.0</td>\n",
              "      <td>31.6</td>\n",
              "      <td>23.3</td>\n",
              "      <td>30.091292</td>\n",
              "      <td>24.565633</td>\n",
              "      <td>5863.555664</td>\n",
              "      <td>31.1</td>\n",
              "      <td>23.9</td>\n",
              "    </tr>\n",
              "    <tr>\n",
              "      <th>3</th>\n",
              "      <td>4.0</td>\n",
              "      <td>32.0</td>\n",
              "      <td>23.4</td>\n",
              "      <td>29.704629</td>\n",
              "      <td>23.326177</td>\n",
              "      <td>5856.964844</td>\n",
              "      <td>31.7</td>\n",
              "      <td>24.3</td>\n",
              "    </tr>\n",
              "    <tr>\n",
              "      <th>4</th>\n",
              "      <td>5.0</td>\n",
              "      <td>31.4</td>\n",
              "      <td>21.9</td>\n",
              "      <td>29.113934</td>\n",
              "      <td>23.486480</td>\n",
              "      <td>5859.552246</td>\n",
              "      <td>31.2</td>\n",
              "      <td>22.5</td>\n",
              "    </tr>\n",
              "  </tbody>\n",
              "</table>\n",
              "</div>\n",
              "      <button class=\"colab-df-convert\" onclick=\"convertToInteractive('df-cbf27bdd-7053-4ec1-8996-c679481ac81c')\"\n",
              "              title=\"Convert this dataframe to an interactive table.\"\n",
              "              style=\"display:none;\">\n",
              "        \n",
              "  <svg xmlns=\"http://www.w3.org/2000/svg\" height=\"24px\"viewBox=\"0 0 24 24\"\n",
              "       width=\"24px\">\n",
              "    <path d=\"M0 0h24v24H0V0z\" fill=\"none\"/>\n",
              "    <path d=\"M18.56 5.44l.94 2.06.94-2.06 2.06-.94-2.06-.94-.94-2.06-.94 2.06-2.06.94zm-11 1L8.5 8.5l.94-2.06 2.06-.94-2.06-.94L8.5 2.5l-.94 2.06-2.06.94zm10 10l.94 2.06.94-2.06 2.06-.94-2.06-.94-.94-2.06-.94 2.06-2.06.94z\"/><path d=\"M17.41 7.96l-1.37-1.37c-.4-.4-.92-.59-1.43-.59-.52 0-1.04.2-1.43.59L10.3 9.45l-7.72 7.72c-.78.78-.78 2.05 0 2.83L4 21.41c.39.39.9.59 1.41.59.51 0 1.02-.2 1.41-.59l7.78-7.78 2.81-2.81c.8-.78.8-2.07 0-2.86zM5.41 20L4 18.59l7.72-7.72 1.47 1.35L5.41 20z\"/>\n",
              "  </svg>\n",
              "      </button>\n",
              "      \n",
              "  <style>\n",
              "    .colab-df-container {\n",
              "      display:flex;\n",
              "      flex-wrap:wrap;\n",
              "      gap: 12px;\n",
              "    }\n",
              "\n",
              "    .colab-df-convert {\n",
              "      background-color: #E8F0FE;\n",
              "      border: none;\n",
              "      border-radius: 50%;\n",
              "      cursor: pointer;\n",
              "      display: none;\n",
              "      fill: #1967D2;\n",
              "      height: 32px;\n",
              "      padding: 0 0 0 0;\n",
              "      width: 32px;\n",
              "    }\n",
              "\n",
              "    .colab-df-convert:hover {\n",
              "      background-color: #E2EBFA;\n",
              "      box-shadow: 0px 1px 2px rgba(60, 64, 67, 0.3), 0px 1px 3px 1px rgba(60, 64, 67, 0.15);\n",
              "      fill: #174EA6;\n",
              "    }\n",
              "\n",
              "    [theme=dark] .colab-df-convert {\n",
              "      background-color: #3B4455;\n",
              "      fill: #D2E3FC;\n",
              "    }\n",
              "\n",
              "    [theme=dark] .colab-df-convert:hover {\n",
              "      background-color: #434B5C;\n",
              "      box-shadow: 0px 1px 3px 1px rgba(0, 0, 0, 0.15);\n",
              "      filter: drop-shadow(0px 1px 2px rgba(0, 0, 0, 0.3));\n",
              "      fill: #FFFFFF;\n",
              "    }\n",
              "  </style>\n",
              "\n",
              "      <script>\n",
              "        const buttonEl =\n",
              "          document.querySelector('#df-cbf27bdd-7053-4ec1-8996-c679481ac81c button.colab-df-convert');\n",
              "        buttonEl.style.display =\n",
              "          google.colab.kernel.accessAllowed ? 'block' : 'none';\n",
              "\n",
              "        async function convertToInteractive(key) {\n",
              "          const element = document.querySelector('#df-cbf27bdd-7053-4ec1-8996-c679481ac81c');\n",
              "          const dataTable =\n",
              "            await google.colab.kernel.invokeFunction('convertToInteractive',\n",
              "                                                     [key], {});\n",
              "          if (!dataTable) return;\n",
              "\n",
              "          const docLinkHtml = 'Like what you see? Visit the ' +\n",
              "            '<a target=\"_blank\" href=https://colab.research.google.com/notebooks/data_table.ipynb>data table notebook</a>'\n",
              "            + ' to learn more about interactive tables.';\n",
              "          element.innerHTML = '';\n",
              "          dataTable['output_type'] = 'display_data';\n",
              "          await google.colab.output.renderOutput(dataTable, element);\n",
              "          const docLink = document.createElement('div');\n",
              "          docLink.innerHTML = docLinkHtml;\n",
              "          element.appendChild(docLink);\n",
              "        }\n",
              "      </script>\n",
              "    </div>\n",
              "  </div>\n",
              "  "
            ]
          },
          "metadata": {},
          "execution_count": 81
        }
      ]
    },
    {
      "cell_type": "code",
      "source": [
        "X = data.drop(['Next_Tmax','Next_Tmin'], axis=1).values\n",
        "Y = data[['Next_Tmax', 'Next_Tmin']].values\n"
      ],
      "metadata": {
        "id": "EgzEpVlRWpKI"
      },
      "execution_count": 57,
      "outputs": []
    },
    {
      "cell_type": "code",
      "source": [
        "from sklearn.model_selection import train_test_split\n",
        "x_train,x_test,y_train,y_test=train_test_split(X,Y,test_size=0.3,random_state=2)\n"
      ],
      "metadata": {
        "id": "JJW-W5iLW3W1"
      },
      "execution_count": 58,
      "outputs": []
    },
    {
      "cell_type": "code",
      "source": [
        "print(x_train.shape)\n",
        "print(y_train.shape)\n",
        "print(x_test.shape)\n",
        "print(y_test.shape)"
      ],
      "metadata": {
        "colab": {
          "base_uri": "https://localhost:8080/"
        },
        "id": "5S120bH-X9kx",
        "outputId": "a5d1e016-c510-4678-d7a1-d5835229e6d3"
      },
      "execution_count": 59,
      "outputs": [
        {
          "output_type": "stream",
          "name": "stdout",
          "text": [
            "(5311, 6)\n",
            "(5311, 2)\n",
            "(2277, 6)\n",
            "(2277, 2)\n"
          ]
        }
      ]
    },
    {
      "cell_type": "code",
      "source": [],
      "metadata": {
        "id": "FZF9tpK_YBKU"
      },
      "execution_count": 59,
      "outputs": []
    },
    {
      "cell_type": "code",
      "source": [
        "from sklearn.linear_model import LinearRegression\n",
        "model = LinearRegression()\n",
        "model.fit(x_train,y_train)"
      ],
      "metadata": {
        "colab": {
          "base_uri": "https://localhost:8080/",
          "height": 75
        },
        "id": "0Q7kMRWkYDba",
        "outputId": "a5f5623f-6763-42bf-8d83-021dc6636498"
      },
      "execution_count": 60,
      "outputs": [
        {
          "output_type": "execute_result",
          "data": {
            "text/plain": [
              "LinearRegression()"
            ],
            "text/html": [
              "<style>#sk-container-id-1 {color: black;background-color: white;}#sk-container-id-1 pre{padding: 0;}#sk-container-id-1 div.sk-toggleable {background-color: white;}#sk-container-id-1 label.sk-toggleable__label {cursor: pointer;display: block;width: 100%;margin-bottom: 0;padding: 0.3em;box-sizing: border-box;text-align: center;}#sk-container-id-1 label.sk-toggleable__label-arrow:before {content: \"▸\";float: left;margin-right: 0.25em;color: #696969;}#sk-container-id-1 label.sk-toggleable__label-arrow:hover:before {color: black;}#sk-container-id-1 div.sk-estimator:hover label.sk-toggleable__label-arrow:before {color: black;}#sk-container-id-1 div.sk-toggleable__content {max-height: 0;max-width: 0;overflow: hidden;text-align: left;background-color: #f0f8ff;}#sk-container-id-1 div.sk-toggleable__content pre {margin: 0.2em;color: black;border-radius: 0.25em;background-color: #f0f8ff;}#sk-container-id-1 input.sk-toggleable__control:checked~div.sk-toggleable__content {max-height: 200px;max-width: 100%;overflow: auto;}#sk-container-id-1 input.sk-toggleable__control:checked~label.sk-toggleable__label-arrow:before {content: \"▾\";}#sk-container-id-1 div.sk-estimator input.sk-toggleable__control:checked~label.sk-toggleable__label {background-color: #d4ebff;}#sk-container-id-1 div.sk-label input.sk-toggleable__control:checked~label.sk-toggleable__label {background-color: #d4ebff;}#sk-container-id-1 input.sk-hidden--visually {border: 0;clip: rect(1px 1px 1px 1px);clip: rect(1px, 1px, 1px, 1px);height: 1px;margin: -1px;overflow: hidden;padding: 0;position: absolute;width: 1px;}#sk-container-id-1 div.sk-estimator {font-family: monospace;background-color: #f0f8ff;border: 1px dotted black;border-radius: 0.25em;box-sizing: border-box;margin-bottom: 0.5em;}#sk-container-id-1 div.sk-estimator:hover {background-color: #d4ebff;}#sk-container-id-1 div.sk-parallel-item::after {content: \"\";width: 100%;border-bottom: 1px solid gray;flex-grow: 1;}#sk-container-id-1 div.sk-label:hover label.sk-toggleable__label {background-color: #d4ebff;}#sk-container-id-1 div.sk-serial::before {content: \"\";position: absolute;border-left: 1px solid gray;box-sizing: border-box;top: 0;bottom: 0;left: 50%;z-index: 0;}#sk-container-id-1 div.sk-serial {display: flex;flex-direction: column;align-items: center;background-color: white;padding-right: 0.2em;padding-left: 0.2em;position: relative;}#sk-container-id-1 div.sk-item {position: relative;z-index: 1;}#sk-container-id-1 div.sk-parallel {display: flex;align-items: stretch;justify-content: center;background-color: white;position: relative;}#sk-container-id-1 div.sk-item::before, #sk-container-id-1 div.sk-parallel-item::before {content: \"\";position: absolute;border-left: 1px solid gray;box-sizing: border-box;top: 0;bottom: 0;left: 50%;z-index: -1;}#sk-container-id-1 div.sk-parallel-item {display: flex;flex-direction: column;z-index: 1;position: relative;background-color: white;}#sk-container-id-1 div.sk-parallel-item:first-child::after {align-self: flex-end;width: 50%;}#sk-container-id-1 div.sk-parallel-item:last-child::after {align-self: flex-start;width: 50%;}#sk-container-id-1 div.sk-parallel-item:only-child::after {width: 0;}#sk-container-id-1 div.sk-dashed-wrapped {border: 1px dashed gray;margin: 0 0.4em 0.5em 0.4em;box-sizing: border-box;padding-bottom: 0.4em;background-color: white;}#sk-container-id-1 div.sk-label label {font-family: monospace;font-weight: bold;display: inline-block;line-height: 1.2em;}#sk-container-id-1 div.sk-label-container {text-align: center;}#sk-container-id-1 div.sk-container {/* jupyter's `normalize.less` sets `[hidden] { display: none; }` but bootstrap.min.css set `[hidden] { display: none !important; }` so we also need the `!important` here to be able to override the default hidden behavior on the sphinx rendered scikit-learn.org. See: https://github.com/scikit-learn/scikit-learn/issues/21755 */display: inline-block !important;position: relative;}#sk-container-id-1 div.sk-text-repr-fallback {display: none;}</style><div id=\"sk-container-id-1\" class=\"sk-top-container\"><div class=\"sk-text-repr-fallback\"><pre>LinearRegression()</pre><b>In a Jupyter environment, please rerun this cell to show the HTML representation or trust the notebook. <br />On GitHub, the HTML representation is unable to render, please try loading this page with nbviewer.org.</b></div><div class=\"sk-container\" hidden><div class=\"sk-item\"><div class=\"sk-estimator sk-toggleable\"><input class=\"sk-toggleable__control sk-hidden--visually\" id=\"sk-estimator-id-1\" type=\"checkbox\" checked><label for=\"sk-estimator-id-1\" class=\"sk-toggleable__label sk-toggleable__label-arrow\">LinearRegression</label><div class=\"sk-toggleable__content\"><pre>LinearRegression()</pre></div></div></div></div></div>"
            ]
          },
          "metadata": {},
          "execution_count": 60
        }
      ]
    },
    {
      "cell_type": "code",
      "source": [
        "from sklearn.linear_model import Ridge,Lasso,ElasticNet\n",
        "model2 = Lasso()\n",
        "model1 = Ridge(alpha=1.0)\n",
        "model3 = ElasticNet()\n",
        "model3.fit(x_train,y_train)\n",
        "model2.fit(x_train,y_train)\n",
        "model1.fit(x_train,y_train)"
      ],
      "metadata": {
        "colab": {
          "base_uri": "https://localhost:8080/",
          "height": 75
        },
        "id": "DDN3VLJ6dojT",
        "outputId": "91657254-913c-4658-8d68-d5cfb37421ba"
      },
      "execution_count": 61,
      "outputs": [
        {
          "output_type": "execute_result",
          "data": {
            "text/plain": [
              "Ridge()"
            ],
            "text/html": [
              "<style>#sk-container-id-2 {color: black;background-color: white;}#sk-container-id-2 pre{padding: 0;}#sk-container-id-2 div.sk-toggleable {background-color: white;}#sk-container-id-2 label.sk-toggleable__label {cursor: pointer;display: block;width: 100%;margin-bottom: 0;padding: 0.3em;box-sizing: border-box;text-align: center;}#sk-container-id-2 label.sk-toggleable__label-arrow:before {content: \"▸\";float: left;margin-right: 0.25em;color: #696969;}#sk-container-id-2 label.sk-toggleable__label-arrow:hover:before {color: black;}#sk-container-id-2 div.sk-estimator:hover label.sk-toggleable__label-arrow:before {color: black;}#sk-container-id-2 div.sk-toggleable__content {max-height: 0;max-width: 0;overflow: hidden;text-align: left;background-color: #f0f8ff;}#sk-container-id-2 div.sk-toggleable__content pre {margin: 0.2em;color: black;border-radius: 0.25em;background-color: #f0f8ff;}#sk-container-id-2 input.sk-toggleable__control:checked~div.sk-toggleable__content {max-height: 200px;max-width: 100%;overflow: auto;}#sk-container-id-2 input.sk-toggleable__control:checked~label.sk-toggleable__label-arrow:before {content: \"▾\";}#sk-container-id-2 div.sk-estimator input.sk-toggleable__control:checked~label.sk-toggleable__label {background-color: #d4ebff;}#sk-container-id-2 div.sk-label input.sk-toggleable__control:checked~label.sk-toggleable__label {background-color: #d4ebff;}#sk-container-id-2 input.sk-hidden--visually {border: 0;clip: rect(1px 1px 1px 1px);clip: rect(1px, 1px, 1px, 1px);height: 1px;margin: -1px;overflow: hidden;padding: 0;position: absolute;width: 1px;}#sk-container-id-2 div.sk-estimator {font-family: monospace;background-color: #f0f8ff;border: 1px dotted black;border-radius: 0.25em;box-sizing: border-box;margin-bottom: 0.5em;}#sk-container-id-2 div.sk-estimator:hover {background-color: #d4ebff;}#sk-container-id-2 div.sk-parallel-item::after {content: \"\";width: 100%;border-bottom: 1px solid gray;flex-grow: 1;}#sk-container-id-2 div.sk-label:hover label.sk-toggleable__label {background-color: #d4ebff;}#sk-container-id-2 div.sk-serial::before {content: \"\";position: absolute;border-left: 1px solid gray;box-sizing: border-box;top: 0;bottom: 0;left: 50%;z-index: 0;}#sk-container-id-2 div.sk-serial {display: flex;flex-direction: column;align-items: center;background-color: white;padding-right: 0.2em;padding-left: 0.2em;position: relative;}#sk-container-id-2 div.sk-item {position: relative;z-index: 1;}#sk-container-id-2 div.sk-parallel {display: flex;align-items: stretch;justify-content: center;background-color: white;position: relative;}#sk-container-id-2 div.sk-item::before, #sk-container-id-2 div.sk-parallel-item::before {content: \"\";position: absolute;border-left: 1px solid gray;box-sizing: border-box;top: 0;bottom: 0;left: 50%;z-index: -1;}#sk-container-id-2 div.sk-parallel-item {display: flex;flex-direction: column;z-index: 1;position: relative;background-color: white;}#sk-container-id-2 div.sk-parallel-item:first-child::after {align-self: flex-end;width: 50%;}#sk-container-id-2 div.sk-parallel-item:last-child::after {align-self: flex-start;width: 50%;}#sk-container-id-2 div.sk-parallel-item:only-child::after {width: 0;}#sk-container-id-2 div.sk-dashed-wrapped {border: 1px dashed gray;margin: 0 0.4em 0.5em 0.4em;box-sizing: border-box;padding-bottom: 0.4em;background-color: white;}#sk-container-id-2 div.sk-label label {font-family: monospace;font-weight: bold;display: inline-block;line-height: 1.2em;}#sk-container-id-2 div.sk-label-container {text-align: center;}#sk-container-id-2 div.sk-container {/* jupyter's `normalize.less` sets `[hidden] { display: none; }` but bootstrap.min.css set `[hidden] { display: none !important; }` so we also need the `!important` here to be able to override the default hidden behavior on the sphinx rendered scikit-learn.org. See: https://github.com/scikit-learn/scikit-learn/issues/21755 */display: inline-block !important;position: relative;}#sk-container-id-2 div.sk-text-repr-fallback {display: none;}</style><div id=\"sk-container-id-2\" class=\"sk-top-container\"><div class=\"sk-text-repr-fallback\"><pre>Ridge()</pre><b>In a Jupyter environment, please rerun this cell to show the HTML representation or trust the notebook. <br />On GitHub, the HTML representation is unable to render, please try loading this page with nbviewer.org.</b></div><div class=\"sk-container\" hidden><div class=\"sk-item\"><div class=\"sk-estimator sk-toggleable\"><input class=\"sk-toggleable__control sk-hidden--visually\" id=\"sk-estimator-id-2\" type=\"checkbox\" checked><label for=\"sk-estimator-id-2\" class=\"sk-toggleable__label sk-toggleable__label-arrow\">Ridge</label><div class=\"sk-toggleable__content\"><pre>Ridge()</pre></div></div></div></div></div>"
            ]
          },
          "metadata": {},
          "execution_count": 61
        }
      ]
    },
    {
      "cell_type": "code",
      "source": [
        "model.score(x_train,y_train)"
      ],
      "metadata": {
        "colab": {
          "base_uri": "https://localhost:8080/"
        },
        "id": "b24dfe07eMYo",
        "outputId": "5341e1a0-7108-4e5f-9803-1ed8b13b8007"
      },
      "execution_count": 62,
      "outputs": [
        {
          "output_type": "execute_result",
          "data": {
            "text/plain": [
              "0.772103232023476"
            ]
          },
          "metadata": {},
          "execution_count": 62
        }
      ]
    },
    {
      "cell_type": "code",
      "source": [
        "model.score(x_test,y_test)"
      ],
      "metadata": {
        "colab": {
          "base_uri": "https://localhost:8080/"
        },
        "id": "7TinqYq_eOc2",
        "outputId": "028f9484-46d2-4dbb-b34c-777bbd16614a"
      },
      "execution_count": 63,
      "outputs": [
        {
          "output_type": "execute_result",
          "data": {
            "text/plain": [
              "0.772515765556332"
            ]
          },
          "metadata": {},
          "execution_count": 63
        }
      ]
    },
    {
      "cell_type": "code",
      "source": [
        "model1.score(x_train,y_train)"
      ],
      "metadata": {
        "colab": {
          "base_uri": "https://localhost:8080/"
        },
        "id": "fai51Om3eQSA",
        "outputId": "435400e0-0a73-4694-d27a-b64bb8db4d46"
      },
      "execution_count": 64,
      "outputs": [
        {
          "output_type": "execute_result",
          "data": {
            "text/plain": [
              "0.7721032312438696"
            ]
          },
          "metadata": {},
          "execution_count": 64
        }
      ]
    },
    {
      "cell_type": "code",
      "source": [
        "model1.score(x_test,y_test)"
      ],
      "metadata": {
        "colab": {
          "base_uri": "https://localhost:8080/"
        },
        "id": "aKzA4kaNeSiC",
        "outputId": "9ce4191b-e1d9-4f18-f055-f74d0b861e9f"
      },
      "execution_count": 65,
      "outputs": [
        {
          "output_type": "execute_result",
          "data": {
            "text/plain": [
              "0.7725148367989916"
            ]
          },
          "metadata": {},
          "execution_count": 65
        }
      ]
    },
    {
      "cell_type": "code",
      "source": [
        "model2.score(x_train,y_train)"
      ],
      "metadata": {
        "colab": {
          "base_uri": "https://localhost:8080/"
        },
        "id": "8VBJGDtqeUxy",
        "outputId": "8b5e88d4-96f7-4b24-a50a-d06091362648"
      },
      "execution_count": 66,
      "outputs": [
        {
          "output_type": "execute_result",
          "data": {
            "text/plain": [
              "0.7465505464008451"
            ]
          },
          "metadata": {},
          "execution_count": 66
        }
      ]
    },
    {
      "cell_type": "code",
      "source": [
        "model2.score(x_test,y_test)"
      ],
      "metadata": {
        "colab": {
          "base_uri": "https://localhost:8080/"
        },
        "id": "4FjkhLeLeWn3",
        "outputId": "17fe3436-2258-4c55-b3ed-aaf5e09f8312"
      },
      "execution_count": 67,
      "outputs": [
        {
          "output_type": "execute_result",
          "data": {
            "text/plain": [
              "0.7416310117275215"
            ]
          },
          "metadata": {},
          "execution_count": 67
        }
      ]
    },
    {
      "cell_type": "code",
      "source": [
        "model3.score(x_train,y_train)"
      ],
      "metadata": {
        "colab": {
          "base_uri": "https://localhost:8080/"
        },
        "id": "oF1tiZIueeIh",
        "outputId": "4a7c94ed-af0a-4676-db6a-384d2e601325"
      },
      "execution_count": 68,
      "outputs": [
        {
          "output_type": "execute_result",
          "data": {
            "text/plain": [
              "0.7585846961995877"
            ]
          },
          "metadata": {},
          "execution_count": 68
        }
      ]
    },
    {
      "cell_type": "code",
      "source": [
        "c = model.intercept_"
      ],
      "metadata": {
        "id": "Oc9cPgITegXp"
      },
      "execution_count": 69,
      "outputs": []
    },
    {
      "cell_type": "code",
      "source": [
        "c"
      ],
      "metadata": {
        "colab": {
          "base_uri": "https://localhost:8080/"
        },
        "id": "cLqNaHdAeidU",
        "outputId": "fb682820-6440-45a5-cccb-32805b1b713f"
      },
      "execution_count": 70,
      "outputs": [
        {
          "output_type": "execute_result",
          "data": {
            "text/plain": [
              "array([ 1.99754774, -1.18676681])"
            ]
          },
          "metadata": {},
          "execution_count": 70
        }
      ]
    },
    {
      "cell_type": "code",
      "source": [
        "m= model.coef_\n",
        "m"
      ],
      "metadata": {
        "colab": {
          "base_uri": "https://localhost:8080/"
        },
        "id": "GcH9szTnekh9",
        "outputId": "e6da60fd-afb5-4322-c4c8-729d857185e0"
      },
      "execution_count": 71,
      "outputs": [
        {
          "output_type": "execute_result",
          "data": {
            "text/plain": [
              "array([[ 1.41311479e-02,  1.96543836e-01,  1.70712303e-02,\n",
              "         7.73129717e-01, -2.09784364e-02, -1.14664144e-04],\n",
              "       [ 7.91787914e-03,  3.93453236e-02,  2.67866863e-01,\n",
              "         2.51867579e-02,  6.59498785e-01,  6.75244774e-05]])"
            ]
          },
          "metadata": {},
          "execution_count": 71
        }
      ]
    },
    {
      "cell_type": "code",
      "source": [
        "y_predict_train = model.predict(x_train)"
      ],
      "metadata": {
        "id": "duXeXqh4enAP"
      },
      "execution_count": 72,
      "outputs": []
    },
    {
      "cell_type": "code",
      "source": [
        "y_predict_train2 = model2.predict(x_train)"
      ],
      "metadata": {
        "id": "yM9v9f73eq1U"
      },
      "execution_count": 73,
      "outputs": []
    },
    {
      "cell_type": "code",
      "source": [
        "y_predict_test = model.predict(x_test)"
      ],
      "metadata": {
        "id": "hHNFMeIeeszO"
      },
      "execution_count": 74,
      "outputs": []
    },
    {
      "cell_type": "code",
      "source": [
        "y_predict_train"
      ],
      "metadata": {
        "colab": {
          "base_uri": "https://localhost:8080/"
        },
        "id": "q_NhHEBreuVf",
        "outputId": "36a3560e-8d7f-4b30-d419-fd17e2ca4a2b"
      },
      "execution_count": 75,
      "outputs": [
        {
          "output_type": "execute_result",
          "data": {
            "text/plain": [
              "array([[31.84922388, 25.43710964],\n",
              "       [29.77073964, 25.17479616],\n",
              "       [30.54377929, 22.41700047],\n",
              "       ...,\n",
              "       [30.66290308, 24.7889335 ],\n",
              "       [30.2674747 , 21.28783601],\n",
              "       [27.78130185, 21.93232096]])"
            ]
          },
          "metadata": {},
          "execution_count": 75
        }
      ]
    },
    {
      "cell_type": "code",
      "source": [
        "import matplotlib.pyplot as plt\n",
        "plt.figure(figsize=(8, 5))\n",
        "plt.scatter(y_train,y_predict_train)\n",
        "plt.plot(y_train,y_predict_train,c='r')\n",
        "plt.xlabel(\"Actual\")\n",
        "plt.ylabel(\"Predicted\")\n",
        "plt.show()"
      ],
      "metadata": {
        "colab": {
          "base_uri": "https://localhost:8080/",
          "height": 465
        },
        "id": "pGfKdyU0exGr",
        "outputId": "832de5e3-bab5-4743-bd5e-41e26aedbcf0"
      },
      "execution_count": 76,
      "outputs": [
        {
          "output_type": "display_data",
          "data": {
            "text/plain": [
              "<Figure size 800x500 with 1 Axes>"
            ],
            "image/png": "[encoded data removed]"
          },
          "metadata": {}
        }
      ]
    },
    {
      "cell_type": "code",
      "source": [
        "import matplotlib.pyplot as plt\n",
        "plt.figure(figsize=(8, 5))\n",
        "plt.scatter(y_test,y_predict_test)\n",
        "plt.plot(y_test,y_predict_test,c='r')\n",
        "plt.xlabel(\"Actual\")\n",
        "plt.ylabel(\"Predicted\")\n",
        "plt.show()"
      ],
      "metadata": {
        "colab": {
          "base_uri": "https://localhost:8080/",
          "height": 465
        },
        "id": "iASgOBDqezur",
        "outputId": "d270874a-9587-4a42-9b9c-9afc3320e643"
      },
      "execution_count": 77,
      "outputs": [
        {
          "output_type": "display_data",
          "data": {
            "text/plain": [
              "<Figure size 800x500 with 1 Axes>"
            ],
            "image/png": "[encoded data removed]"
          },
          "metadata": {}
        }
      ]
    },
    {
      "cell_type": "code",
      "source": [
        "from sklearn.metrics import r2_score\n",
        "r2_score(y_train,y_predict_train)"
      ],
      "metadata": {
        "colab": {
          "base_uri": "https://localhost:8080/"
        },
        "id": "59j_1gxUe3Tn",
        "outputId": "68362d34-a766-49d5-8df5-1c0b6665e8ff"
      },
      "execution_count": 78,
      "outputs": [
        {
          "output_type": "execute_result",
          "data": {
            "text/plain": [
              "0.772103232023476"
            ]
          },
          "metadata": {},
          "execution_count": 78
        }
      ]
    },
    {
      "cell_type": "code",
      "source": [
        "from sklearn.metrics import r2_score\n",
        "r2_score(y_test,y_predict_test)"
      ],
      "metadata": {
        "colab": {
          "base_uri": "https://localhost:8080/"
        },
        "id": "8XM-pS2ce6LQ",
        "outputId": "2963aec6-d774-4980-cb6c-5697ca793e46"
      },
      "execution_count": 79,
      "outputs": [
        {
          "output_type": "execute_result",
          "data": {
            "text/plain": [
              "0.772515765556332"
            ]
          },
          "metadata": {},
          "execution_count": 79
        }
      ]
    },
    {
      "cell_type": "code",
      "source": [
        "model.predict([[1.0,\t28.7,\t21.4,\t28.074101,\t23.006936,\t5992.895996\t]])"
      ],
      "metadata": {
        "colab": {
          "base_uri": "https://localhost:8080/"
        },
        "id": "q-UZWfS7e8Si",
        "outputId": "26d3de35-0f68-40b9-cc89-60152af7e594"
      },
      "execution_count": 83,
      "outputs": [
        {
          "output_type": "execute_result",
          "data": {
            "text/plain": [
              "array([[28.55291326, 21.96752181]])"
            ]
          },
          "metadata": {},
          "execution_count": 83
        }
      ]
    },
    {
      "cell_type": "code",
      "source": [
        "model.predict([[2.0,\t31.9,\t21.6,\t29.850689,\t24.035009,\t5869.312500]])"
      ],
      "metadata": {
        "colab": {
          "base_uri": "https://localhost:8080/"
        },
        "id": "wkmEHX5Te_bx",
        "outputId": "806cc2b3-ac3b-4d46-ea69-733c7e934820"
      },
      "execution_count": 84,
      "outputs": [
        {
          "output_type": "execute_result",
          "data": {
            "text/plain": [
              "array([[30.56553514, 22.86933257]])"
            ]
          },
          "metadata": {},
          "execution_count": 84
        }
      ]
    },
    {
      "cell_type": "code",
      "source": [],
      "metadata": {
        "id": "Gnpez_6-gbUe"
      },
      "execution_count": 85,
      "outputs": []
    },
    {
      "cell_type": "code",
      "source": [],
      "metadata": {
        "id": "hlhtyv9QgiWl"
      },
      "execution_count": null,
      "outputs": []
    }
  ]
}